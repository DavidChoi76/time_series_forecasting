{
 "cells": [
  {
   "cell_type": "markdown",
   "id": "790d6b2e-ce98-4a2d-b5e4-8f2e41598692",
   "metadata": {},
   "source": [
    "# Prophet Application for Water Demand Forecast"
   ]
  },
  {
   "cell_type": "markdown",
   "id": "e76d33e7-61b2-43de-b9bd-92360ae0e539",
   "metadata": {},
   "source": [
    "## 1. Load Required Libraries"
   ]
  },
  {
   "cell_type": "code",
   "execution_count": null,
   "id": "5d7f4efe-56f9-495d-8b97-d261d0911c0f",
   "metadata": {},
   "outputs": [],
   "source": [
    "import pandas as pd\n",
    "from matplotlib import pyplot as plt\n",
    "import seaborn as sns\n",
    "import numpy as np\n",
    "import folium\n",
    "from folium.plugins import MarkerCluster\n",
    "from sklearn.metrics import mean_absolute_error as MAE\n",
    "from sklearn.metrics import r2_score as R2\n",
    "from sklearn.metrics import mean_squared_error as MSE\n",
    "from scipy.stats import skew\n",
    "import os\n",
    "import sys\n",
    "from glob import glob \n",
    "from calendar import day_abbr, month_abbr, mdays\n",
    "from prophet import Prophet\n",
    "import holidays\n",
    "sys.path.append('code/')\n",
    "import utils\n",
    "\n",
    "import warnings\n",
    "warnings.simplefilter(\"ignore\", DeprecationWarning)\n",
    "warnings.simplefilter(\"ignore\", FutureWarning, )\n",
    "%matplotlib inline\n",
    "\n",
    "np.random.seed(42)"
   ]
  },
  {
   "cell_type": "markdown",
   "id": "eff5da13-0382-4b59-98f7-2e4e22888ed8",
   "metadata": {},
   "source": [
    "## 2. Load Data"
   ]
  },
  {
   "cell_type": "markdown",
   "id": "25f8c782-cc7f-484c-a196-54a9aeba3269",
   "metadata": {},
   "source": [
    "### 2.1 Load Past Predictor (Independent) Variables"
   ]
  },
  {
   "cell_type": "code",
   "execution_count": null,
   "id": "6208426a-e6d0-4fe4-83c5-73b66eb9b8d1",
   "metadata": {},
   "outputs": [],
   "source": [
    "folder_name = '특광역시'\n",
    "CITY_NAME_Kor = '서울특별시'\n",
    "CITY_NAME_Eng = 'Seoul'\n",
    "predictor_raw = pd.read_excel(\"data/cities_predictor_variables.xlsx\", sheet_name=CITY_NAME_Kor)\n",
    "col_name = predictor_raw.iloc[2].values\n",
    "predictor_raw1 = predictor_raw.iloc[3:, :29] # header 및 일단위자료 삭제\n",
    "predictor_raw1.columns = col_name[:29]\n",
    "predictor_raw1_len = predictor_raw1['연도'].isna().argmax()\n",
    "predictor_raw1 = predictor_raw1[:predictor_raw1_len]\n",
    "predictor_raw1.index = pd.to_datetime(predictor_raw1['연도'][:predictor_raw1_len].astype(str) + '-' + predictor_raw1['월'][:predictor_raw1_len].astype(str))\n",
    "predictor_raw1.rename_axis(columns='', inplace=True)\n",
    "predictor_raw1.drop(columns=['연도', '월'], inplace=True)\n",
    "predictor_raw1.index.name = \"date\"\n",
    "predictor_raw1 = predictor_raw1.astype(float)\n",
    "predictor_raw1.columns = ['Total_Population', 'Households', 'Population_per_Households', 'Male_Population', 'Female_Population', 'Male_Female_Ratio', 'Population_aging_Ratio', \n",
    "                'Power_usage', 'Num_of_Business', 'Business_above_100', 'complex_area', 'annual_household_income',\n",
    "                'High_School_Graduate_num', 'High_School_Graduate_ratio', 'personal_expense', 'benefits_vs_personal_expense', 'employment_ratio', 'employment_insurance_ratio', 'vulnerable_class', 'vulnerable_class_ratio',\n",
    "                'Temp', 'Rainfall', 'Humidity', 'Solar_radiation', 'Ground_Temp', 'Wind', 'Pressure']\n",
    "predictor_f = predictor_raw1.loc[\"2017-01-01\":\"2021-12-01\"]\n",
    "predictor_f.head()"
   ]
  },
  {
   "cell_type": "markdown",
   "id": "a0334027-79cf-41bf-bffe-224d4611d04e",
   "metadata": {},
   "source": [
    "### 2.2 Load Past Response (Dependent) Variable: 용수공급량 (\"월별 공급량/월별 일수\"를 통해 m3/day으로 평균하여 표현)"
   ]
  },
  {
   "cell_type": "code",
   "execution_count": null,
   "id": "521bb85f-a8b9-4ca1-9067-d42841cbb9f3",
   "metadata": {},
   "outputs": [],
   "source": [
    "import pandas as pd\n",
    "\n",
    "water_supply_raw = pd.read_excel(\"data/water_supply(17-21).xlsx\", header=1)\n",
    "water_supply_raw[\"ds\"] = water_supply_raw[\"지자체명\"].values\n",
    "water_supply_raw = water_supply_raw.iloc[1:, 1:]\n",
    "water_supply_raw.head()"
   ]
  },
  {
   "cell_type": "markdown",
   "id": "c5a1755d-0744-4c88-8cf8-2a715b426c37",
   "metadata": {},
   "source": [
    "### 2.3 Load Future Predictor (Independent) Variables"
   ]
  },
  {
   "cell_type": "code",
   "execution_count": null,
   "id": "7b778da7-bfd7-465b-a1c7-d965f91c6ef1",
   "metadata": {},
   "outputs": [],
   "source": [
    "future_factor = pd.read_excel(\"data/cities_future_predictor_variables_locality.xlsx\", sheet_name=CITY_NAME_Kor)\n",
    "future_factor_1 = future_factor.iloc[3:19, :8] # header 및 일단위자료 삭제\n",
    "future_factor_1.columns = future_factor.iloc[2, :8] # set column names\n",
    "future_factor_1.index = pd.to_datetime(future_factor_1[\"연도\"], format='%Y')\n",
    "future_factor_1 = future_factor_1.resample('MS').ffill()\n",
    "future_factor_1.index.name = \"date\"\n",
    "future_factors1 = future_factor_1[future_factor_1.columns[1:]]\n",
    "#future_factors1.columns = ['총인구수', '세대수', '세대당 인구', '남자 인구수', '여자 인구수', '남여 비율', '고령화비율']\n",
    "future_factors1.columns = ['Total_Population', 'Households', 'Population_per_Households', 'Male_Population', 'Female_Population', \n",
    "                           'Male_Female_Ratio', 'Population_aging_Ratio']\n",
    "future_factors1 = future_factors1.astype(float)\n",
    "future_factors1"
   ]
  },
  {
   "cell_type": "markdown",
   "id": "5eebf002-4f81-47c2-8a5e-4faa993b04ba",
   "metadata": {},
   "source": [
    "### 2.4 Load Future Response (Dependent) Variable: 용수공급량 (\"월별 공급량/월별 일수\"를 통해 m3/day으로 평균하여 표현)"
   ]
  },
  {
   "cell_type": "code",
   "execution_count": null,
   "id": "4521f3f1-4d60-4f83-b491-2e4f1cfce01b",
   "metadata": {},
   "outputs": [],
   "source": [
    "future_factor_3 = future_factor.iloc[135:316, 22:28] # header 및 일단위자료 삭제\n",
    "future_factor_3.columns = future_factor.iloc[2, 22:28] # set column names\n",
    "future_factor_3.index = pd.to_datetime(future_factor_1.index)\n",
    "future_factor_3.index.name = \"date\"\n",
    "future_factors2 = future_factor_3[['월합강수량(mm)', '습도\\n평균상대습도(%)', '평균온도(°C)']]\n",
    "#future_factors2.columns = ['월강수량', '습도', '기온']\n",
    "future_factors2.columns = ['Rainfall', 'Humidity', 'Temp']\n",
    "future_factors2 = future_factors2.astype(float)\n",
    "future_factors2"
   ]
  },
  {
   "cell_type": "markdown",
   "id": "c00886a7-ae1b-4c51-a32c-9483f51a1154",
   "metadata": {},
   "source": [
    "### 2.5 Merge Every Dataset"
   ]
  },
  {
   "cell_type": "code",
   "execution_count": null,
   "id": "0365f05c-61d4-4453-97dc-9ff517eb6a63",
   "metadata": {},
   "outputs": [],
   "source": [
    "future_factors1_1 = future_factors1.loc[\"2022-01-01\":\"2035-01-01\"]\n",
    "future_factors2_1 = future_factors2.loc[\"2022-01-01\":\"2035-01-01\"]\n",
    "future_factor = pd.concat([future_factors1_1, future_factors2_1], axis=1)\n",
    "predictor_f[\"y\"] = water_supply_raw[CITY_NAME_Kor].values\n",
    "total_data_df1 = pd.concat([predictor_f, future_factor], axis=0)\n",
    "\n",
    "total_data_df = total_data_df1[['y', 'Total_Population', 'Households', 'Population_per_Households', 'Male_Population', 'Female_Population', \n",
    "                               'Male_Female_Ratio', 'Population_aging_Ratio', 'Rainfall', 'Humidity', 'Temp']]\n",
    "total_data_df"
   ]
  },
  {
   "cell_type": "markdown",
   "id": "a22ddac5-badf-4e1a-945a-6312822ce987",
   "metadata": {},
   "source": [
    "## 3. Application of Prophet"
   ]
  },
  {
   "cell_type": "markdown",
   "id": "f83f93b2-1e94-4a4f-abd4-f600dcc119a2",
   "metadata": {},
   "source": [
    "### 3.1 Univariate Analysis using past water supply"
   ]
  },
  {
   "cell_type": "markdown",
   "id": "722021db-8147-4a70-9c98-c2c3644b4cd7",
   "metadata": {},
   "source": [
    "#### 3.1.1 Prepare Training and Test data"
   ]
  },
  {
   "cell_type": "code",
   "execution_count": null,
   "id": "bf95c4df-7bcd-478e-b3c9-e163e61278f7",
   "metadata": {},
   "outputs": [],
   "source": [
    "data_train = total_data_df.loc[\"2017-01-01\":\"2020-12-01\"][['y']]\n",
    "data_train['ds'] = data_train.index\n",
    "#data_train.index = range(0, len(data_train))\n",
    "data_test = total_data_df.loc[\"2021-01-01\":\"2021-12-01\"][['y']]\n",
    "data_test['ds'] = data_test.index"
   ]
  },
  {
   "cell_type": "markdown",
   "id": "7275aeef-707b-4d87-944d-ada8095b26de",
   "metadata": {},
   "source": [
    "#### 3.1.2 Training and Testing using Multiplicative Decomposition"
   ]
  },
  {
   "cell_type": "code",
   "execution_count": null,
   "id": "462f240a-512e-407a-9cb8-3a415b33384c",
   "metadata": {},
   "outputs": [],
   "source": [
    "m1 = Prophet(mcmc_samples=300, changepoint_prior_scale=0.9, seasonality_mode='multiplicative', yearly_seasonality=10)\n",
    "m1.fit(data_train)\n",
    "future1_1 = m1.make_future_dataframe(periods=len(data_test), freq='MS')\n",
    "verification1 = m1.predict(future1_1)\n",
    "MAE_value = MAE(verification1['yhat'][-12:], data_test['y'])\n",
    "R2_value = R2(verification1['yhat'][-12:], data_test['y'])\n",
    "RMSE_value = MSE(verification1['yhat'][-12:], data_test['y'])**0.5\n",
    "Correlation = np.corrcoef(verification1['yhat'][-12:], data_test['y'])[0,1]\n",
    "print(\"MAE=\"+ str(MAE_value), \"R2=\"+ str(R2_value), \"RMSE=\"+ str(RMSE_value), \"Correlation=\"+ str(Correlation))\n",
    "verif_fig = m1.plot(verification1)"
   ]
  },
  {
   "cell_type": "markdown",
   "id": "07ce0b88-15e4-437c-8e6d-42297eda8d72",
   "metadata": {},
   "source": [
    "#### 3.1.3 verifing train and test set"
   ]
  },
  {
   "cell_type": "code",
   "execution_count": null,
   "id": "c7240ea5-5f8b-48b6-a68e-164428293e39",
   "metadata": {},
   "outputs": [],
   "source": [
    "verif_d1 = utils.make_verif(verification1, data_train, data_test)\n",
    "f =  utils.plot_verif(verif_d1)"
   ]
  },
  {
   "cell_type": "code",
   "execution_count": null,
   "id": "db71c9a1-f887-4e38-b448-2feeedabdc27",
   "metadata": {},
   "outputs": [],
   "source": [
    "utils.plot_joint_plot(verif_d1.loc[:'2020-12-01',:], title='train set', fname='train_set_joint_plot_climate')"
   ]
  },
  {
   "cell_type": "code",
   "execution_count": null,
   "id": "0496f459-74b8-49c2-9faf-d3fde9091701",
   "metadata": {},
   "outputs": [],
   "source": [
    "utils.plot_joint_plot(verif_d1.loc['2021-01-01':,:], title='test set', fname='test_set_joint_plot_no_climate')"
   ]
  },
  {
   "cell_type": "code",
   "execution_count": null,
   "id": "5d60ec27-a813-46d7-bd97-a642ba55261d",
   "metadata": {},
   "outputs": [],
   "source": [
    "residuals1 = verif_d1.loc['2021-01-01':,'yhat'] - verif_d1.loc['2021-01-01':,'y']\n",
    "f, ax = plt.subplots(figsize=(8,8))\n",
    "sns.distplot(residuals1, ax=ax, color='0.4')\n",
    "ax.grid(ls=':')\n",
    "ax.set_xlabel('residuals', fontsize=15)\n",
    "ax.set_ylabel(\"normalised frequency\", fontsize=15)\n",
    "ax.grid(ls=':')\n",
    "\n",
    "[l.set_fontsize(13) for l in ax.xaxis.get_ticklabels()]\n",
    "[l.set_fontsize(13) for l in ax.yaxis.get_ticklabels()];\n",
    "\n",
    "ax.axvline(0, color='0.4')\n",
    "ax.set_title('Residuals distribution (test set)', fontsize=17)\n",
    "\n",
    "ax.text(0.05, 0.85, \"Skewness = {:+4.2f}\\nMedian = {:+4.2f}\\nMean = {:+4.2f}\".\\\n",
    "        format(skew(residuals1), residuals1.median(), residuals1.mean()), \\\n",
    "        fontsize=14, transform=ax.transAxes)\n",
    "\n",
    "for ext in ['png','jpeg','pdf']: \n",
    "    f.savefig(f'residuals_distribution_test_0.{ext}', dpi=200)"
   ]
  },
  {
   "cell_type": "code",
   "execution_count": null,
   "id": "7d416442-f697-4e8c-b050-14cfb9871a6a",
   "metadata": {},
   "outputs": [],
   "source": [
    "f = m1.plot_components(verification1)"
   ]
  },
  {
   "cell_type": "markdown",
   "id": "1a4463f8-6b46-4fbd-b3c8-5ee61b41bdc4",
   "metadata": {},
   "source": [
    "#### 3.1.4 forcast water demand until 2035 year"
   ]
  },
  {
   "cell_type": "code",
   "execution_count": null,
   "id": "0c6613b7-85a9-4c57-bedb-e7c920ae6379",
   "metadata": {},
   "outputs": [],
   "source": [
    "data_future1 = total_data_df.loc[\"2021-01-01\":\"2035-01-01\"][['y']]\n",
    "data_future1['ds'] = data_future1.index\n",
    "future1_2 = m1.make_future_dataframe(periods=len(data_future1), freq='MS')\n",
    "forecast1 = m1.predict(future1_2)\n",
    "forecast_fig_1 = m1.plot(forecast1)\n",
    "ax = forecast_fig_1.gca()\n",
    "ax.set_ylim(2500000, 3600000)"
   ]
  },
  {
   "cell_type": "markdown",
   "id": "570fd98c-5a71-4a5f-8e39-8739abf6f0c4",
   "metadata": {},
   "source": [
    "#### 3.1.5 Training and Testing using additive Decomposition"
   ]
  },
  {
   "cell_type": "code",
   "execution_count": null,
   "id": "2d057975-4b04-4d7d-b215-e1ddfe3421a4",
   "metadata": {},
   "outputs": [],
   "source": [
    "m2 = Prophet(mcmc_samples=300, changepoint_prior_scale=0.8, seasonality_mode='additive', yearly_seasonality=10)\n",
    "m2.fit(data_train)\n",
    "future2_1 = m2.make_future_dataframe(periods=len(data_test), freq='MS')\n",
    "verification2 = m2.predict(future2_1)\n",
    "MAE_value = MAE(verification2['yhat'][-12:], data_test['y'])\n",
    "R2_value = R2(verification2['yhat'][-12:], data_test['y'])\n",
    "RMSE_value = MSE(verification2['yhat'][-12:], data_test['y'])**0.5\n",
    "Correlation = np.corrcoef(verification2['yhat'][-12:], data_test['y'])[0,1]\n",
    "print(\"MAE=\"+ str(MAE_value), \"R2=\"+ str(R2_value), \"RMSE=\"+ str(RMSE_value), \"Correlation=\"+ str(Correlation))\n",
    "verif_fig = m2.plot(verification2)\n",
    "plt.show()"
   ]
  },
  {
   "cell_type": "code",
   "execution_count": null,
   "id": "764c9e2b-b316-4183-9e13-579a7979ec02",
   "metadata": {},
   "outputs": [],
   "source": [
    "verif_d2 = utils.make_verif(verification2, data_train, data_test)\n",
    "f =  utils.plot_verif(verif_d2)"
   ]
  },
  {
   "cell_type": "code",
   "execution_count": null,
   "id": "05025865-a5e9-4e14-898f-5c2242ddd0c1",
   "metadata": {},
   "outputs": [],
   "source": [
    "utils.plot_joint_plot(verif_d2.loc['2021-01-01':,:], title='test set', fname='test_set_joint_plot_no_climate')"
   ]
  },
  {
   "cell_type": "code",
   "execution_count": null,
   "id": "e8d353f7-db36-4b9c-b6c7-fba49241e423",
   "metadata": {},
   "outputs": [],
   "source": [
    "residuals2 = verif_d2.loc['2021-01-01':,'yhat'] - verif_d2.loc['2021-01-01':,'y']\n",
    "f, ax = plt.subplots(figsize=(8,8))\n",
    "sns.distplot(residuals2, ax=ax, color='0.4')\n",
    "ax.grid(ls=':')\n",
    "ax.set_xlabel('residuals', fontsize=15)\n",
    "ax.set_ylabel(\"normalised frequency\", fontsize=15)\n",
    "ax.grid(ls=':')\n",
    "\n",
    "[l.set_fontsize(13) for l in ax.xaxis.get_ticklabels()]\n",
    "[l.set_fontsize(13) for l in ax.yaxis.get_ticklabels()];\n",
    "\n",
    "ax.axvline(0, color='0.4')\n",
    "ax.set_title('Residuals distribution (test set)', fontsize=17)\n",
    "\n",
    "ax.text(0.05, 0.85, \"Skewness = {:+4.2f}\\nMedian = {:+4.2f}\\nMean = {:+4.2f}\".\\\n",
    "        format(skew(residuals2), residuals2.median(), residuals2.mean()), \\\n",
    "        fontsize=14, transform=ax.transAxes)\n",
    "\n",
    "for ext in ['png','jpeg','pdf']: \n",
    "    f.savefig(f'residuals_distribution_test_set_1.{ext}', dpi=200)"
   ]
  },
  {
   "cell_type": "code",
   "execution_count": null,
   "id": "6dda27e9-5a0c-4637-a515-1f59ef5cf8a6",
   "metadata": {},
   "outputs": [],
   "source": [
    "f = m2.plot_components(verification2)"
   ]
  },
  {
   "cell_type": "code",
   "execution_count": null,
   "id": "cf29db48-cec5-4d70-a645-10386eba9529",
   "metadata": {},
   "outputs": [],
   "source": [
    "data_future2 = total_data_df.loc[\"2021-01-01\":\"2035-01-01\"][['y']]\n",
    "data_future2['ds'] = data_future2.index\n",
    "future2_2 = m2.make_future_dataframe(periods=len(data_future2), freq='MS')\n",
    "forecast2 = m2.predict(future2_2)\n",
    "forecast_fig_2 = m2.plot(forecast2)\n",
    "ax = forecast_fig_2.gca()\n",
    "ax.set_ylim(2500000, 3700000)"
   ]
  },
  {
   "cell_type": "markdown",
   "id": "ddcb7c58-49b2-4532-a920-3a340f6ea00f",
   "metadata": {},
   "source": [
    "### 3.2 Multivariate Analysis for water demand forecast"
   ]
  },
  {
   "cell_type": "markdown",
   "id": "92e74ff3-30fe-4bc2-9e20-f8b02c9c6092",
   "metadata": {},
   "source": [
    "#### 3.2.1 Create m3 object using Prophet and add regressor to use multivariate"
   ]
  },
  {
   "cell_type": "code",
   "execution_count": null,
   "id": "5e8173d6-055f-4c79-be66-44f3b021efd7",
   "metadata": {},
   "outputs": [],
   "source": [
    "m3 = Prophet(mcmc_samples=300, changepoint_prior_scale=0.9, seasonality_mode='multiplicative', yearly_seasonality=10)"
   ]
  },
  {
   "cell_type": "code",
   "execution_count": null,
   "id": "e41ff15e-1025-4c3e-a7a3-508bd3f8f144",
   "metadata": {},
   "outputs": [],
   "source": [
    "m3.add_regressor('Rainfall', prior_scale=0.2, mode='multiplicative')\n",
    "m3.add_regressor('Humidity', prior_scale=0.2, mode='multiplicative')\n",
    "m3.add_regressor('Temp', prior_scale=0.2, mode='multiplicative')\n",
    "m3.add_regressor('Total_Population', prior_scale=0.2, mode='multiplicative')\n",
    "m3.add_regressor('Households', prior_scale=0.2, mode='multiplicative')\n",
    "m3.add_regressor('Population_per_Households', prior_scale=0.2, mode='multiplicative')"
   ]
  },
  {
   "cell_type": "code",
   "execution_count": null,
   "id": "2c32fa7b-0b64-4ae9-a903-7f732368ffd6",
   "metadata": {},
   "outputs": [],
   "source": [
    "total_data_df['ds'] = total_data_df.index\n",
    "data_train = total_data_df[['ds', 'y', 'Rainfall', 'Humidity', 'Temp', 'Total_Population', 'Households', 'Population_per_Households']].loc[\"2017-01-01\":\"2020-12-01\"]\n",
    "data_test = total_data_df[['ds', 'y', 'Rainfall', 'Humidity', 'Temp', 'Total_Population', 'Households', 'Population_per_Households']].loc[\"2021-01-01\":\"2021-12-01\"]"
   ]
  },
  {
   "cell_type": "code",
   "execution_count": null,
   "id": "42c9b816-bd9c-4677-ab47-36d6cc657e2b",
   "metadata": {},
   "outputs": [],
   "source": [
    "m3.fit(data_train)"
   ]
  },
  {
   "cell_type": "code",
   "execution_count": null,
   "id": "2227aa28-0e32-4964-882d-919bfcb369fa",
   "metadata": {},
   "outputs": [],
   "source": [
    "future3_1 = m3.make_future_dataframe(periods=len(data_test), freq='MS')\n",
    "futures3_1 = utils.add_regressor_to_future(future3_1, [total_data_df['Rainfall'], total_data_df['Humidity'], total_data_df['Temp'],\n",
    "                                         total_data_df['Total_Population'], total_data_df['Households'], total_data_df['Population_per_Households']])\n",
    "verification3 = m3.predict(futures3_1)\n",
    "MAE_value = MAE(verification3['yhat'][-12:], data_test['y'])\n",
    "R2_value = R2(verification3['yhat'][-12:], data_test['y'])\n",
    "RMSE_value = MSE(verification3['yhat'][-12:], data_test['y'])**0.5\n",
    "Correlation = np.corrcoef(verification3['yhat'][-12:], data_test['y'])[0,1]\n",
    "print(MAE_value, R2_value, RMSE_value, Correlation)\n",
    "verif_fig = m3.plot(verification3)\n",
    "plt.show()"
   ]
  },
  {
   "cell_type": "code",
   "execution_count": null,
   "id": "003dce79-f346-453e-8129-e147112c7afc",
   "metadata": {},
   "outputs": [],
   "source": [
    "verif_d3 = utils.make_verif(verification3, data_train, data_test)\n",
    "f =  utils.plot_verif(verif_d3)"
   ]
  },
  {
   "cell_type": "code",
   "execution_count": null,
   "id": "5cc1b81e-8f9a-49e1-bbc0-aaa1e77cb54e",
   "metadata": {},
   "outputs": [],
   "source": [
    "utils.plot_joint_plot(verif_d3.loc[:'2020-12-01',:], title='train set', fname='train_set_joint_plot_climate')"
   ]
  },
  {
   "cell_type": "code",
   "execution_count": null,
   "id": "ce20165e-a6e8-45d5-b2e4-4a0d9cb4ef7e",
   "metadata": {},
   "outputs": [],
   "source": [
    "utils.plot_joint_plot(verif_d3.loc['2021-01-01':,:], title='test set', fname='test_set_joint_plot_no_climate')"
   ]
  },
  {
   "cell_type": "code",
   "execution_count": null,
   "id": "2979bb99-125d-47f4-99c5-4e53668a4e5e",
   "metadata": {},
   "outputs": [],
   "source": [
    "residuals3 = verif_d3.loc['2021-01-01':,'yhat'] - verif_d3.loc['2021-01-01':,'y']\n",
    "f, ax = plt.subplots(figsize=(8,8))\n",
    "sns.distplot(residuals3, ax=ax, color='0.4')\n",
    "ax.grid(ls=':')\n",
    "ax.set_xlabel('residuals', fontsize=15)\n",
    "ax.set_ylabel(\"normalised frequency\", fontsize=15)\n",
    "ax.grid(ls=':')\n",
    "\n",
    "[l.set_fontsize(13) for l in ax.xaxis.get_ticklabels()]\n",
    "[l.set_fontsize(13) for l in ax.yaxis.get_ticklabels()];\n",
    "\n",
    "ax.axvline(0, color='0.4')\n",
    "ax.set_title('Residuals distribution (test set)', fontsize=17)\n",
    "\n",
    "ax.text(0.05, 0.85, \"Skewness = {:+4.2f}\\nMedian = {:+4.2f}\\nMean = {:+4.2f}\".\\\n",
    "        format(skew(residuals3), residuals3.median(), residuals3.mean()), \\\n",
    "        fontsize=14, transform=ax.transAxes)\n",
    "\n",
    "for ext in ['png','jpeg','pdf']: \n",
    "    f.savefig(f'residuals_distribution_test_set_2.{ext}', dpi=200)"
   ]
  },
  {
   "cell_type": "code",
   "execution_count": null,
   "id": "7d65889a-b1b7-496c-82a5-f5050a1cca2b",
   "metadata": {},
   "outputs": [],
   "source": [
    "f = m3.plot_components(verification3)"
   ]
  },
  {
   "cell_type": "code",
   "execution_count": null,
   "id": "9403fe39-17c2-419b-9633-9da5dcdf67d8",
   "metadata": {},
   "outputs": [],
   "source": [
    "data_future3 = total_data_df[['ds', 'y', 'Rainfall', 'Humidity', 'Temp', 'Total_Population', 'Households', 'Population_per_Households']].loc[\"2021-01-01\":\"2035-01-01\"]\n",
    "future3_2 = m3.make_future_dataframe(periods=len(data_future3), freq='MS')\n",
    "futures3_2 = utils.add_regressor_to_future(future3_2, [total_data_df['Rainfall'], total_data_df['Humidity'], total_data_df['Temp'],\n",
    "                                                     total_data_df['Total_Population'], total_data_df['Households'], total_data_df['Population_per_Households']])\n",
    "forecast3 = m3.predict(futures3_2)\n",
    "forecast_fig_3 = m3.plot(forecast3)\n",
    "ax = forecast_fig_3.gca()\n",
    "ax.set_ylim(2500000, 3800000)"
   ]
  },
  {
   "cell_type": "code",
   "execution_count": null,
   "id": "c3974df0-e020-4636-98e3-c35bac4820eb",
   "metadata": {},
   "outputs": [],
   "source": []
  }
 ],
 "metadata": {
  "kernelspec": {
   "display_name": "Python 3 (ipykernel)",
   "language": "python",
   "name": "python3"
  },
  "language_info": {
   "codemirror_mode": {
    "name": "ipython",
    "version": 3
   },
   "file_extension": ".py",
   "mimetype": "text/x-python",
   "name": "python",
   "nbconvert_exporter": "python",
   "pygments_lexer": "ipython3",
   "version": "3.7.12"
  }
 },
 "nbformat": 4,
 "nbformat_minor": 5
}
