{
 "cells": [
  {
   "cell_type": "markdown",
   "id": "9c0ea8da",
   "metadata": {},
   "source": [
    "# Exploratory Data Analysis for WATER DEMAND"
   ]
  },
  {
   "cell_type": "markdown",
   "id": "6ec6d300",
   "metadata": {},
   "source": [
    "## 1. Load Required Libraries"
   ]
  },
  {
   "cell_type": "code",
   "execution_count": null,
   "id": "35e1bf9b",
   "metadata": {},
   "outputs": [],
   "source": [
    "import pandas as pd\n",
    "import numpy as np\n",
    "import matplotlib.pyplot as plt\n",
    "import seaborn as sns\n",
    "from pylab import rcParams\n",
    "import sklearn\n",
    "import warnings\n",
    "warnings.filterwarnings(\"ignore\")\n",
    "\n",
    "sns.set(font_scale = 0.7)\n",
    "plt.rcParams['axes.unicode_minus'] = False"
   ]
  },
  {
   "cell_type": "markdown",
   "id": "40c6767f-3b4e-4d2e-b1e0-f5addbdcd3d2",
   "metadata": {},
   "source": [
    "## 2. Load Data"
   ]
  },
  {
   "cell_type": "code",
   "execution_count": null,
   "id": "78e4c5c0-aec7-4f07-82a8-6385a2a44761",
   "metadata": {},
   "outputs": [],
   "source": [
    "folder_name = '특광역시'\n",
    "CITY_NAME_Kor = '서울특별시'\n",
    "CITY_NAME_Eng = 'Seoul'"
   ]
  },
  {
   "cell_type": "markdown",
   "id": "dbd28aad-40ee-4ed1-b8da-0b298a4253a8",
   "metadata": {},
   "source": [
    "### 2.1 Load Predictor (Independent) Variables"
   ]
  },
  {
   "cell_type": "code",
   "execution_count": null,
   "id": "584081ec-be74-42b8-8334-a89ad4a19d93",
   "metadata": {},
   "outputs": [],
   "source": [
    "predictor_raw = pd.read_excel(\"data/cities_predictor_variables.xlsx\", sheet_name=CITY_NAME_Kor)\n",
    "col_name = predictor_raw.iloc[2].values\n",
    "predictor_raw1 = predictor_raw.iloc[3:, :29] # header 및 일단위자료 삭제\n",
    "predictor_raw1.columns = col_name[:29]\n",
    "predictor_raw1_len = predictor_raw1['연도'].isna().argmax()\n",
    "predictor_raw1 = predictor_raw1[:predictor_raw1_len]\n",
    "predictor_raw1.index = pd.to_datetime(predictor_raw1['연도'][:predictor_raw1_len].astype(str) + '-' + predictor_raw1['월'][:predictor_raw1_len].astype(str))\n",
    "predictor_raw1.rename_axis(columns='', inplace=True)\n",
    "predictor_raw1.drop(columns=['연도', '월'], inplace=True)\n",
    "predictor_raw1.index.name = \"date\"\n",
    "predictor_raw1 = predictor_raw1.astype(float)\n",
    "predictor_raw1.head()"
   ]
  },
  {
   "cell_type": "code",
   "execution_count": null,
   "id": "2d0da07a-9fcb-4cf8-ab3e-68742cd11cb2",
   "metadata": {},
   "outputs": [],
   "source": [
    "predictor_raw1.columns = ['Total_Population', 'Households', 'Population_per_Households', 'Male_Population', 'Female_Population', 'Male_Female_Ratio', 'Population_aging_Ratio', \n",
    "                'Power_usage', 'Num_of_Business', 'Business_above_100', 'complex_area', 'annual_household_income',\n",
    "                'High_School_Graduate_num', 'High_School_Graduate_ratio', 'personal_expense', 'benefits_vs_personal_expense', 'employment_ratio', 'employment_insurance_ratio', 'vulnerable_class', 'vulnerable_class_ratio',\n",
    "                'Temp', 'Rainfall', 'Humidity', 'Solar_radiation', 'Ground_Temp', 'Wind', 'Pressure']\n",
    "predictor_raw1.head()"
   ]
  },
  {
   "cell_type": "code",
   "execution_count": null,
   "id": "a8ec7651-0b21-4463-8cef-d71feaa44092",
   "metadata": {},
   "outputs": [],
   "source": [
    "predictor_f = predictor_raw1.loc[\"2017-01-01\":\"2021-12-01\"]\n",
    "predictor_f.head()"
   ]
  },
  {
   "cell_type": "markdown",
   "id": "a1ae89f2-bf77-4328-9f6c-b23e47c1a8cb",
   "metadata": {},
   "source": [
    "### 2.2 Load Response (Dependent) Variable: 용수공급량 (\"월별 공급량/월별 일수\"를 통해 m3/day으로 평균하여 표현)"
   ]
  },
  {
   "cell_type": "code",
   "execution_count": null,
   "id": "0bc26982-5943-4442-a785-2733f445ed1c",
   "metadata": {},
   "outputs": [],
   "source": [
    "response_raw = pd.read_excel(\"data/water_supply(17-21).xlsx\", header=1)\n",
    "response_raw['date'] = response_raw[\"지자체명\"].values\n",
    "response_raw = response_raw.iloc[1:, 1:]\n",
    "response_raw[f'water_supply({CITY_NAME_Eng})'] = response_raw[CITY_NAME_Kor].values\n",
    "response_raw = response_raw[[\"date\", f'water_supply({CITY_NAME_Eng})']]\n",
    "response_raw.set_index(\"date\", inplace=True)\n",
    "response_raw = response_raw.astype(float)\n",
    "response_raw.head()"
   ]
  },
  {
   "cell_type": "code",
   "execution_count": null,
   "id": "8ab1ee76-cd0c-4d19-9df0-24775ee8ba67",
   "metadata": {},
   "outputs": [],
   "source": [
    "response_f = response_raw.loc[\"2017-01\":\"2021-12\"]\n",
    "response_f.head()"
   ]
  },
  {
   "cell_type": "code",
   "execution_count": null,
   "id": "04c284c3-2162-4df0-b963-2a3bfbac9e53",
   "metadata": {},
   "outputs": [],
   "source": [
    "dataset = predictor_f\n",
    "dataset[f\"water_supply({CITY_NAME_Eng})\"] = response_f[f\"water_supply({CITY_NAME_Eng})\"].values\n",
    "dataset.head()"
   ]
  },
  {
   "cell_type": "markdown",
   "id": "7e66bddf",
   "metadata": {},
   "source": [
    "## 3. Check Data Availability"
   ]
  },
  {
   "cell_type": "code",
   "execution_count": null,
   "id": "fa269f75",
   "metadata": {},
   "outputs": [],
   "source": [
    "fig, ax = plt.subplots(figsize=(20,5))\n",
    "sns.heatmap(dataset.isnull(), cbar=False)\n",
    "sns.set(font_scale = 2.0)\n",
    "plt.show()"
   ]
  },
  {
   "cell_type": "markdown",
   "id": "0d2a72b6-7ef5-47fe-a74e-c9be593ddc2e",
   "metadata": {},
   "source": [
    "## 4. Plot All Variables"
   ]
  },
  {
   "cell_type": "code",
   "execution_count": null,
   "id": "a94d6b71-0da8-4342-ac6a-753778faf306",
   "metadata": {},
   "outputs": [],
   "source": [
    "rcParams['figure.figsize'] = 15, 30\n",
    "fig1 = plt.figure()\n",
    "values = dataset.values\n",
    "sns.set(font_scale = 0.7)\n",
    "groups = [0, 1, 2, 3, 4, 5, 6, 7, 8, 9, 10, 11, 12,13,14,15,16,17,18,19,20,21,22,23,24,25,26,27]\n",
    "i = 1\n",
    "# plot each column\n",
    "for group in groups:\n",
    "    plt.subplot(len(groups), 1, i)\n",
    "    if group == 0:\n",
    "        plt.title(f\"Monthly Water Supply (2017~2021) and Related Predictor Variables ({CITY_NAME_Eng})\", fontsize=15)\n",
    "    plt.plot(dataset.index,  values[:, group])\n",
    "    plt.title(dataset.columns[group], y=0.8, loc='left')\n",
    "    plt.grid(True)\n",
    "    plt.xlim([dataset.index[0], dataset.index[-1]])\n",
    "    i += 1\n",
    "filename = CITY_NAME_Eng+\"_all_variables_plot.png\"\n",
    "plt.savefig(filename, bbox_inches='tight')\n",
    "plt.plot()  "
   ]
  },
  {
   "cell_type": "markdown",
   "id": "4d837e4c",
   "metadata": {},
   "source": [
    "## 5. Correlation (Categories: 1. Seasonality, 2. Locality, 3. Sociality)"
   ]
  },
  {
   "cell_type": "markdown",
   "id": "c9dc83a5-34e6-45f9-ba4d-b633049df296",
   "metadata": {},
   "source": [
    "### 5.1  Sesonality Features\n",
    " #### (1) Temp, (2) Rainfall, (3) Humidity, (4) Solar_radiation, (5) Ground_Temp, (6) Wind, (7) Pressure"
   ]
  },
  {
   "cell_type": "code",
   "execution_count": null,
   "id": "483f8f4b",
   "metadata": {},
   "outputs": [],
   "source": [
    "cols_seasonality =['Temp', 'Rainfall', 'Humidity', 'Solar_radiation', 'Ground_Temp', 'Wind', 'Pressure', f\"water_supply({CITY_NAME_Eng})\"]\n",
    "plt.figure(figsize=(8, 6))\n",
    "sns.set(font_scale = 1.0)\n",
    "dataset[cols_seasonality].corr()\n",
    "heatmap = sns.heatmap(dataset[cols_seasonality].corr(), cmap=\"RdYlBu_r\", annot=True, annot_kws={\"fontsize\":12})\n",
    "heatmap.set_title(f'Correlation Heatmap (Seasonality Predictor Variables vs Water Demand(Total) ({CITY_NAME_Eng}))', fontsize=15, pad=12)\n",
    "filename = CITY_NAME_Eng+\"_seasonality_predictor_vs_water_demand_total.png\"\n",
    "plt.savefig(filename, bbox_inches='tight')\n",
    "plt.show()"
   ]
  },
  {
   "cell_type": "code",
   "execution_count": null,
   "id": "d060c578-f9fc-48ad-a35b-2f47c33f1d8f",
   "metadata": {},
   "outputs": [],
   "source": [
    "g = sns.PairGrid(dataset[cols_seasonality])\n",
    "g.fig.subplots_adjust(top=0.96)\n",
    "g.fig.suptitle(f'Pair Grid (Seasonality Predictor Variables vs Water Demand(Total) ({CITY_NAME_Eng}))', fontsize=20)\n",
    "g.map_upper(sns.scatterplot)\n",
    "g.map_lower(sns.kdeplot)\n",
    "g.map_diag(sns.kdeplot, lw=3, legend=False)\n",
    "plt.savefig(\"seasonality_predictor_vs_water_demand_total_pair_grid.png\", bbox_inches='tight')"
   ]
  },
  {
   "cell_type": "markdown",
   "id": "ee779375-bbe1-4e30-9201-e9d5223e2bbb",
   "metadata": {},
   "source": [
    "### 5.2  Locality Features \n",
    "#### 'Total_Population', 'Households', 'Population_per_Households', 'Male_Population', 'Female_Population', 'Male_Female_Ratio',                                     'Population_aging_Ratio', 'Power_usage', 'Num_of_Business', 'Business_above_100', 'complex_area'"
   ]
  },
  {
   "cell_type": "code",
   "execution_count": null,
   "id": "44d1e5a9-a63b-4e02-88a2-948b577217f9",
   "metadata": {},
   "outputs": [],
   "source": [
    "cols_locality =['Total_Population', 'Households', 'Population_per_Households', 'Male_Population', 'Female_Population', 'Male_Female_Ratio', \n",
    "                'Population_aging_Ratio', 'Power_usage', 'Num_of_Business', 'Business_above_100', 'complex_area', f\"water_supply({CITY_NAME_Eng})\"]\n",
    "plt.figure(figsize=(8, 6))\n",
    "sns.set(font_scale = 1.0)\n",
    "dataset[cols_locality].corr()\n",
    "heatmap = sns.heatmap(dataset[cols_locality].corr(), cmap=\"RdYlBu_r\", annot=True, annot_kws={\"fontsize\":8})\n",
    "heatmap.set_title(f'Correlation Heatmap (Locality Predictor Variables vs Water Demand(Total) ({CITY_NAME_Eng}))', fontsize=15, pad=12)\n",
    "filename = CITY_NAME_Eng+\"_locality_predictor_vs_water_demand_total.png\"\n",
    "plt.savefig(filename, bbox_inches='tight')\n",
    "plt.show()"
   ]
  },
  {
   "cell_type": "code",
   "execution_count": null,
   "id": "d3d10acb-a744-48f4-9238-3d7466b3321b",
   "metadata": {},
   "outputs": [],
   "source": [
    "g = sns.PairGrid(dataset[cols_locality])\n",
    "g.fig.subplots_adjust(top=0.96)\n",
    "g.fig.suptitle(f'Pair Grid (Locality Predictor Variables vs Water Demand(Total) ({CITY_NAME_Eng}))', fontsize=20)\n",
    "g.map_upper(sns.scatterplot)\n",
    "g.map_lower(sns.kdeplot)\n",
    "g.map_diag(sns.kdeplot, lw=3, legend=False)\n",
    "plt.savefig(\"locality_predictor_vs_water_demand_total_pair_grid.png\", bbox_inches='tight')"
   ]
  },
  {
   "cell_type": "markdown",
   "id": "c53e26d9-9d65-4b89-84d8-b13b26db4353",
   "metadata": {},
   "source": [
    "### 5.3  Sociality Features \n",
    "#### 'annual_household_income', 'High_School_Graduate_num', 'High_School_Graduate_ratio', 'personal_expense', 'benefits_vs_personal_expense', 'employment_ratio', 'employment_insurance_ratio', 'vulnerable_class', 'vulnerable_class_ratio'"
   ]
  },
  {
   "cell_type": "code",
   "execution_count": null,
   "id": "76b7fb9f-42b4-4f4f-ad68-9c099cbb230e",
   "metadata": {},
   "outputs": [],
   "source": [
    "cols_sociality =['annual_household_income', 'High_School_Graduate_num', 'High_School_Graduate_ratio', 'personal_expense', 'benefits_vs_personal_expense', \n",
    "                 'employment_ratio', 'employment_insurance_ratio', 'vulnerable_class', 'vulnerable_class_ratio', f\"water_supply({CITY_NAME_Eng})\"]\n",
    "plt.figure(figsize=(8, 6))\n",
    "sns.set(font_scale = 1.0)\n",
    "dataset[cols_sociality].corr()\n",
    "heatmap = sns.heatmap(dataset[cols_sociality].corr(), cmap=\"RdYlBu_r\", annot=True, annot_kws={\"fontsize\":10})\n",
    "heatmap.set_title(f'Correlation Heatmap (Sociality Predictor Variables vs Water Demand(Total) ({CITY_NAME_Eng}))', fontsize=15, pad=12)\n",
    "filename = CITY_NAME_Eng+\"_sociality_predictor_vs_water_demand_total.png\"\n",
    "plt.savefig(filename, bbox_inches='tight')\n",
    "plt.show()"
   ]
  },
  {
   "cell_type": "code",
   "execution_count": null,
   "id": "36d8bf20-1470-4ded-8ed4-338202e8a206",
   "metadata": {},
   "outputs": [],
   "source": [
    "g = sns.PairGrid(dataset[cols_sociality])\n",
    "g.fig.subplots_adjust(top=0.96)\n",
    "g.fig.suptitle(f'Pair Grid (Sociality Predictor Variables vs Water Demand(Total) ({CITY_NAME_Eng}))', fontsize=20)\n",
    "g.map_upper(sns.scatterplot)\n",
    "g.map_lower(sns.kdeplot)\n",
    "g.map_diag(sns.kdeplot, lw=3, legend=False)\n",
    "plt.savefig(\"sociality_predictor_vs_water_demand_total_pair_grid.png\", bbox_inches='tight')"
   ]
  },
  {
   "cell_type": "code",
   "execution_count": null,
   "id": "39fba3ed",
   "metadata": {},
   "outputs": [],
   "source": [
    "data_corr = pd.concat([dataset[cols_seasonality].corr()[-1:].T[:-1], dataset[cols_locality].corr()[-1:].T[:-1], dataset[cols_sociality].corr()[-1:].T[:-1]])\n",
    "data_corr.columns = [f'{CITY_NAME_Eng}_Correlation']\n",
    "data_corr.sort_values(by=f'{CITY_NAME_Eng}_Correlation', ascending=True, inplace=True)\n",
    "fig, ax = plt.subplots(figsize=(5,9))\n",
    "ax.barh(data_corr.index, data_corr[f'{CITY_NAME_Eng}_Correlation'].values)\n",
    "for i, v in enumerate(data_corr[f'{CITY_NAME_Eng}_Correlation']):\n",
    "    ax.text(v, i-0.25, str(v)[0:4], fontsize=10)\n",
    "    \n",
    "filename = CITY_NAME_Eng+\"_Correlation Ranking (Predictor Variables vs Water Demand(Total)).png\"\n",
    "plt.title(f'{filename.split(\".\")[0]}', fontsize=13)\n",
    "plt.savefig(filename, bbox_inches='tight')\n",
    "plt.show()    \n",
    "data_corr.to_csv(f'{filename.split(\".\")[0]}.csv')"
   ]
  },
  {
   "cell_type": "markdown",
   "id": "fc022579-dd8a-47cd-92c5-de42d5c207f4",
   "metadata": {},
   "source": [
    "## 6. Data Decomposition"
   ]
  },
  {
   "cell_type": "code",
   "execution_count": null,
   "id": "c33a16e8-55f5-492c-abfb-e9a9461d664b",
   "metadata": {},
   "outputs": [],
   "source": [
    "from statsmodels.tsa.seasonal import seasonal_decompose\n",
    "result = seasonal_decompose(dataset[f\"water_supply({CITY_NAME_Eng})\"], model='additive') #multiplicative\n",
    "\n",
    "rcParams['figure.figsize'] = 18, 8\n",
    "result.plot().savefig(CITY_NAME_Eng+\"_data_decomposition.png\")"
   ]
  },
  {
   "cell_type": "code",
   "execution_count": null,
   "id": "e5132dd5-2845-48f1-8c80-1bb200773471",
   "metadata": {},
   "outputs": [],
   "source": [
    "dataset[\"trend\"] = result.trend.values\n",
    "dataset[\"seasonal\"] = result.seasonal.values\n",
    "dataset[\"resid\"] = result.resid.values\n",
    "dataset.to_csv(f'{CITY_NAME_Eng}_datasets.csv')"
   ]
  },
  {
   "cell_type": "code",
   "execution_count": null,
   "id": "8f01b699-6d9a-4421-8802-9b533bd4dcfe",
   "metadata": {},
   "outputs": [],
   "source": [
    "cols_seasonality =['Temp', 'Rainfall', 'Humidity', 'Solar_radiation', 'Ground_Temp', 'Wind', 'Pressure', 'seasonal']\n",
    "plt.figure(figsize=(8, 6))\n",
    "sns.set(font_scale = 1.0)\n",
    "dataset[cols_seasonality].corr()\n",
    "heatmap = sns.heatmap(dataset[cols_seasonality].corr(), cmap=\"RdYlBu_r\", annot=True, annot_kws={\"fontsize\":12})\n",
    "heatmap.set_title(f'Correlation Heatmap (Seasonality Predictor Variables vs Water Demand (Sesonality) ({CITY_NAME_Eng}))', fontdict={'fontsize':15}, pad=12)\n",
    "filename = CITY_NAME_Eng+\"_seasonality_predictor_vs_water_demand (seasonality).png\"\n",
    "plt.savefig(filename, bbox_inches='tight')\n",
    "plt.show()"
   ]
  },
  {
   "cell_type": "code",
   "execution_count": null,
   "id": "c57b9f38-815e-433a-b6ab-2d6143697cc7",
   "metadata": {},
   "outputs": [],
   "source": [
    "g = sns.PairGrid(dataset[cols_seasonality])\n",
    "g.fig.subplots_adjust(top=0.96)\n",
    "g.fig.suptitle(f'Pair Grid (Seasonality Predictor Variables vs Water Demand (Sesonality) ({CITY_NAME_Eng}))', fontsize=20)\n",
    "g.map_upper(sns.scatterplot)\n",
    "g.map_lower(sns.kdeplot)\n",
    "g.map_diag(sns.kdeplot, lw=3, legend=False)\n",
    "plt.savefig(CITY_NAME_Eng+\"_seasonality_predictor_vs_water_demand (seasonality)_pair_grid.png\", bbox_inches='tight')"
   ]
  },
  {
   "cell_type": "code",
   "execution_count": null,
   "id": "6b4d04a1-d786-4c3b-bf27-95f52f1b6bcf",
   "metadata": {},
   "outputs": [],
   "source": [
    "cols_locality =['Total_Population', 'Households', 'Population_per_Households', 'Male_Population', 'Female_Population', 'Male_Female_Ratio', \n",
    "                'Population_aging_Ratio', 'Power_usage', 'Num_of_Business', 'Business_above_100', 'complex_area', 'trend']\n",
    "plt.figure(figsize=(8, 6))\n",
    "sns.set(font_scale = 1.0)\n",
    "example1 = dataset[cols_locality].loc[\"2017-07-01\":\"2021-06-01\"]\n",
    "heatmap = sns.heatmap(example1.corr(), cmap=\"RdYlBu_r\", annot=True, annot_kws={\"fontsize\":8})\n",
    "heatmap.set_title(f'Correlation Heatmap (Locality Predictor Variables vs Water Demand (Trend) ({CITY_NAME_Eng}))', fontdict={'fontsize':15}, pad=12)\n",
    "filename = CITY_NAME_Eng+\"_locality_predictor_vs_water_demand (trend).png\"\n",
    "plt.savefig(filename, bbox_inches='tight')\n",
    "plt.show()"
   ]
  },
  {
   "cell_type": "code",
   "execution_count": null,
   "id": "2ad2a1f6-ea4f-4ac3-8c57-8a6db26d893d",
   "metadata": {},
   "outputs": [],
   "source": [
    "g = sns.PairGrid(dataset[cols_locality])\n",
    "g.fig.subplots_adjust(top=0.96)\n",
    "g.fig.suptitle(f'Pair Grid (Locality Predictor Variables vs Water Demand (Trend) ({CITY_NAME_Eng}))', fontsize=20)\n",
    "g.map_upper(sns.scatterplot)\n",
    "g.map_lower(sns.kdeplot)\n",
    "g.map_diag(sns.kdeplot, lw=3, legend=False)\n",
    "plt.savefig(CITY_NAME_Eng+\"_locality_predictor_vs_water_demand (trend)_pair_grid.png\", bbox_inches='tight')"
   ]
  },
  {
   "cell_type": "code",
   "execution_count": null,
   "id": "6ead551b-5294-4f0d-83bd-476616d5cd84",
   "metadata": {},
   "outputs": [],
   "source": [
    "cols_locality =['Total_Population', 'Households', 'Population_per_Households', 'Male_Population', 'Female_Population', 'Male_Female_Ratio', \n",
    "                'Population_aging_Ratio', 'Power_usage', 'Num_of_Business', 'Business_above_100', 'complex_area', 'seasonal']\n",
    "plt.figure(figsize=(8, 6))\n",
    "sns.set(font_scale = 1.0)\n",
    "example2 = dataset[cols_locality].loc[\"2017-07-01\":\"2021-06-01\"]\n",
    "heatmap = sns.heatmap(example2.corr(), cmap=\"RdYlBu_r\", annot=True, annot_kws={\"fontsize\":8})\n",
    "heatmap.set_title(f'Correlation Heatmap (Locality Predictor Variables vs Water Demand (Seasonality) ({CITY_NAME_Eng}))', fontdict={'fontsize':15}, pad=12)\n",
    "filename = CITY_NAME_Eng+\"_locality_predictor_vs_water_demand (seasonality).png\"\n",
    "plt.savefig(filename, bbox_inches='tight')\n",
    "plt.show()"
   ]
  },
  {
   "cell_type": "code",
   "execution_count": null,
   "id": "8d347725-9799-4b65-8b55-b66f913a10b8",
   "metadata": {},
   "outputs": [],
   "source": [
    "g = sns.PairGrid(dataset[cols_locality])\n",
    "g.fig.subplots_adjust(top=0.96)\n",
    "g.fig.suptitle(f'Pair Grid (Locality Predictor Variables vs Water Demand (Seasonality) ({CITY_NAME_Eng}))', fontsize=20)\n",
    "g.map_upper(sns.scatterplot)\n",
    "g.map_lower(sns.kdeplot)\n",
    "g.map_diag(sns.kdeplot, lw=3, legend=False)\n",
    "plt.savefig(CITY_NAME_Eng+\"_locality_predictor_vs_water_demand (seasonality)_pair_grid.png\", bbox_inches='tight')"
   ]
  },
  {
   "cell_type": "code",
   "execution_count": null,
   "id": "a14e72c9-055f-4bdc-883c-d5d7004bcf8d",
   "metadata": {},
   "outputs": [],
   "source": [
    "cols_sociality =['annual_household_income', 'High_School_Graduate_num', 'High_School_Graduate_ratio', 'personal_expense', 'benefits_vs_personal_expense', \n",
    "                 'employment_ratio', 'employment_insurance_ratio', 'vulnerable_class', 'vulnerable_class_ratio', 'trend']\n",
    "plt.figure(figsize=(8, 6))\n",
    "sns.set(font_scale = 1.0)\n",
    "example3 = dataset[cols_sociality].loc[\"2017-07-01\":\"2021-06-01\"]\n",
    "heatmap = sns.heatmap(example3.corr(), cmap=\"RdYlBu_r\", annot=True, annot_kws={\"fontsize\":10})\n",
    "heatmap.set_title(f'Correlation Heatmap (Sociality Predictor Variables vs Water Demand (Trend) ({CITY_NAME_Eng}))', fontdict={'fontsize':15}, pad=12)\n",
    "filename = CITY_NAME_Eng+\"_sociality_predictor_vs_water_demand (sociality).png\"\n",
    "plt.savefig(filename, bbox_inches='tight')\n",
    "plt.show()"
   ]
  },
  {
   "cell_type": "code",
   "execution_count": null,
   "id": "96eb3bea-8644-481e-a84a-10c840b02900",
   "metadata": {},
   "outputs": [],
   "source": [
    "g = sns.PairGrid(dataset[cols_sociality])\n",
    "g.fig.subplots_adjust(top=0.96)\n",
    "g.fig.suptitle(f'Pair Grid (Sociality Predictor Variables vs Water Demand (Trend) ({CITY_NAME_Eng}))', fontsize=20)\n",
    "g.map_upper(sns.scatterplot)\n",
    "g.map_lower(sns.kdeplot)\n",
    "g.map_diag(sns.kdeplot, lw=3, legend=False)\n",
    "plt.savefig(CITY_NAME_Eng+\"_sociality_predictor_vs_water_demand (sociality)_pair_grid.png\", bbox_inches='tight')"
   ]
  },
  {
   "cell_type": "code",
   "execution_count": null,
   "id": "79e4488e-67c8-43e0-b32e-30abda8df74e",
   "metadata": {},
   "outputs": [],
   "source": [
    "data_corr1 = pd.concat([dataset[cols_seasonality].corr()[-1:].T[:-1], example1.corr()[-1:].T[:-1], example3.corr()[-1:].T[:-1]])\n",
    "data_corr1 = data_corr1.fillna(0)\n",
    "data_corr1[f'{CITY_NAME_Eng}_Correlation_decomposition'] = data_corr1['trend'] + data_corr1['seasonal']\n",
    "data_corr1 = data_corr1.drop(['trend', 'seasonal'], axis=1)\n",
    "data_corr1.sort_values(by=f'{CITY_NAME_Eng}_Correlation_decomposition', ascending=True, inplace=True)\n",
    "fig, ax = plt.subplots(figsize=(5,9))\n",
    "ax.barh(data_corr1.index, data_corr1[f'{CITY_NAME_Eng}_Correlation_decomposition'].values)\n",
    "for i, v in enumerate(data_corr1[f'{CITY_NAME_Eng}_Correlation_decomposition']):\n",
    "    ax.text(v, i-0.25, str(v)[0:4], fontsize=10)\n",
    "filename = CITY_NAME_Eng+\"_Correlation Ranking (Predictor Variables vs Water Demand (Decomposition)).png\"\n",
    "plt.title(f'{filename.split(\".\")[0]}', fontsize=13)\n",
    "plt.savefig(filename, bbox_inches='tight')\n",
    "plt.show()    \n",
    "data_corr1.to_csv(f'{filename.split(\".\")[0]}.csv')"
   ]
  },
  {
   "cell_type": "code",
   "execution_count": null,
   "id": "065169ad-6780-4733-b5fc-44057f6b3b03",
   "metadata": {},
   "outputs": [],
   "source": []
  }
 ],
 "metadata": {
  "kernelspec": {
   "display_name": "Python 3 (ipykernel)",
   "language": "python",
   "name": "python3"
  },
  "language_info": {
   "codemirror_mode": {
    "name": "ipython",
    "version": 3
   },
   "file_extension": ".py",
   "mimetype": "text/x-python",
   "name": "python",
   "nbconvert_exporter": "python",
   "pygments_lexer": "ipython3",
   "version": "3.7.12"
  }
 },
 "nbformat": 4,
 "nbformat_minor": 5
}
